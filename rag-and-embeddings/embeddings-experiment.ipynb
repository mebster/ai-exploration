{
 "cells": [
  {
   "cell_type": "markdown",
   "id": "2d86f411-5af0-42c1-a707-d0a72652ebc9",
   "metadata": {},
   "source": [
    "# Exploring Embeddings with a naive RAG implementation\n",
    "\n",
    "Retrieval-Augmented Generation (RAG) is a natural language processing (NLP) model architecture that combines the powers of two major components: a retriever and a generator. This approach aims to enhance the generation of human-like text by incorporating relevant information retrieved from a large dataset or corpus. The RAG model architecture is particularly useful in tasks like question answering, fact verification, and content creation where the integration of external knowledge can significantly improve the quality and relevance of the generated text."
   ]
  },
  {
   "cell_type": "code",
   "execution_count": 1,
   "id": "77687919-2ad5-4b1c-9a9d-6b328eae36dc",
   "metadata": {},
   "outputs": [],
   "source": [
    "#!pip install -q pdfplumber;\n",
    "#!pip install -q sentence_transformers;"
   ]
  },
  {
   "cell_type": "markdown",
   "id": "6269364b-941b-4c5f-83ea-d1b3b2a9330b",
   "metadata": {},
   "source": [
    "The text extraction next uses regular expressions (regex) to detect the start of a section or subsection. To help develop and especially test regex that I generally get ChatGPT to write, I find this website very helpful:\n",
    "https://regex101.com\n"
   ]
  },
  {
   "cell_type": "markdown",
   "id": "7532fc93-159b-4138-ace3-634f85983ac5",
   "metadata": {},
   "source": [
    "## PDF processing\n",
    "\n",
    "In this implementation, the PDF processing is done one page at a time. This works for very large documents, but has the drawback that sections or subsections going across pages will fall in different chunks.  Here all subsections are processed a single chunk. For large subsections, it would probably be better to separate them into separate chunks. However, in this case, overlapping these chunks is recommended.\n",
    "\n",
    "As the pages are processed, metadata is assembled and captured with each chunk of text.  This is important to keep track of chunks once they are vectorized (see below). \n",
    "\n",
    "Embeddings are then created, using a local and dedicated LLM (all-MiniLM-L6-v2)."
   ]
  },
  {
   "cell_type": "code",
   "execution_count": 2,
   "id": "b9dafa03-7e8d-4f10-90cb-274f586e2ff2",
   "metadata": {},
   "outputs": [],
   "source": [
    "from pprint import pprint"
   ]
  },
  {
   "cell_type": "code",
   "execution_count": 3,
   "id": "988bc133-245e-46a5-8566-80a9853f860b",
   "metadata": {},
   "outputs": [],
   "source": [
    "import re\n",
    "\n",
    "def is_section_start(line):\n",
    "    return re.match(r'^\\d+\\s', line)\n",
    "\n",
    "def is_subsection_start(line):\n",
    "    return re.match(r'^\\d+\\.\\d+\\s', line)\n",
    "\n",
    "def extract_sections(text):\n",
    "    \n",
    "    chunks_with_metadata = []\n",
    "    current_section_title = ''\n",
    "    current_subsection_title = ''\n",
    "    current_chunk_content = []    # Accumulate lines of text here\n",
    "    chunk_type = 'section_text'   # Default to section text\n",
    "\n",
    "    def append_chunk():\n",
    "        chunks_with_metadata.append({\n",
    "            'section_title': current_section_title,\n",
    "            'subsection_title': current_subsection_title,\n",
    "            'chunk_type': chunk_type,\n",
    "            'content': \"\\n\".join(current_chunk_content)  # Join accumulated lines\n",
    "        })\n",
    "        return\n",
    "\n",
    "    def add_chunk():\n",
    "        nonlocal current_chunk_content\n",
    "        if current_chunk_content:\n",
    "            chunks_with_metadata = append_chunk()\n",
    "            current_chunk_content = []  # Reset for the new chunk\n",
    "        return\n",
    "    \n",
    "    for line in text.strip().split('\\n'):\n",
    "        line = line.strip()\n",
    "        if not line:\n",
    "            continue  # Skip empty lines\n",
    "    \n",
    "        # Check for section or subsection markers\n",
    "        if is_section_start(line):\n",
    "            # Save the previous chunk before resetting for the new section\n",
    "            add_chunk()\n",
    "            current_section_title = line\n",
    "            current_subsection_title = ''\n",
    "            chunk_type = 'section_text'\n",
    "    \n",
    "        elif is_subsection_start(line):\n",
    "            # Save the previous chunk before resetting for the new subsection\n",
    "            add_chunk()\n",
    "            current_subsection_title = line\n",
    "            chunk_type = 'subsection_text'\n",
    "    \n",
    "        else:\n",
    "            current_chunk_content.append(line)\n",
    "    \n",
    "    # Don't forget to save the last chunk after exiting the loop\n",
    "    if current_chunk_content:\n",
    "        append_chunk()\n",
    "        \n",
    "    return chunks_with_metadata\n"
   ]
  },
  {
   "cell_type": "code",
   "execution_count": 4,
   "id": "3bf576fc-a196-4b08-8ee2-43ebb3ae22d9",
   "metadata": {},
   "outputs": [],
   "source": [
    "import pdfplumber\n",
    "from sentence_transformers import SentenceTransformer\n",
    "\n",
    "# Load a pre-trained model for embeddings\n",
    "model = SentenceTransformer('all-MiniLM-L6-v2') # 65MB in RAM?\n",
    "\n",
    "# Function to extract text and split by headers (2 levels)\n",
    "def extract_and_split(pdf_path):\n",
    "    chunks_with_metadata = []\n",
    "    with pdfplumber.open(pdf_path) as pdf:\n",
    "        for page_number, page in enumerate(pdf.pages, start=1):\n",
    "            text = page.extract_text()\n",
    "            for section in extract_sections(text):\n",
    "                metadata = {\n",
    "                    \"pdf_name\": pdf_path.split('/')[-1],  # Get the file name\n",
    "                    \"section_title\": section['section_title'],\n",
    "                    \"page_number\": page_number,\n",
    "                    \"chunk_type\": section['chunk_type'],\n",
    "                    \"content\": section['content'],\n",
    "                }\n",
    "                if section['subsection_title'].strip() :\n",
    "                    metadata[\"subsection_title\"] = section['subsection_title']\n",
    "                chunks_with_metadata.append((section['content'], metadata))\n",
    "    return chunks_with_metadata\n",
    "\n",
    "# Function to create embeddings with metadata\n",
    "def create_embeddings_with_metadata(chunks_with_metadata):\n",
    "    embeddings_with_metadata = []\n",
    "    for text_chunk, metadata in chunks_with_metadata:\n",
    "        embedding = model.encode([text_chunk])[0]  # Encode the chunk and take the first element\n",
    "        embedding_with_metadata = {\n",
    "            \"embedding\": embedding,\n",
    "            \"metadata\": metadata\n",
    "        }\n",
    "        embeddings_with_metadata.append(embedding_with_metadata)\n",
    "    return embeddings_with_metadata\n",
    "\n",
    "_chunks_with_metadata = extract_and_split('doc.pdf')\n",
    "_embeddings_with_metadata = create_embeddings_with_metadata(_chunks_with_metadata)\n",
    "\n",
    "def get_embeddings():\n",
    "    return [e['embedding'] for e in _embeddings_with_metadata]\n",
    "\n",
    "def get_text_content():\n",
    "    return [e['metadata']['content'] for e in _embeddings_with_metadata]\n"
   ]
  },
  {
   "cell_type": "code",
   "execution_count": 5,
   "id": "bd2f0c94-a7d2-4af8-bdaa-bbc55cac6a6d",
   "metadata": {},
   "outputs": [
    {
     "name": "stdout",
     "output_type": "stream",
     "text": [
      "================================================================================\n",
      "\n",
      "Summary:\n",
      "Created 20 embeddings\n",
      "Each embedding is a vector of 384 elements\n",
      "\n",
      "================================================================================\n",
      "\n",
      "Let's have a look at the embeddings...\n",
      "\n",
      "0>------------------------------------------------------------------------------\n",
      "1 Flukarian (type: section_text)\n",
      "Content:\n",
      "The flukarian (Flukaris familiaris or Flukaris wingus familiaris) is a wild flying mammal,\n",
      "descendent of an unknow alien species. It flies for most of its life and only lands to mate and\n",
      "perform nuptial rituals. The flukarian was discovered on Alpha Centurion system by the joint\n",
      "ESA-NASA mission in 2434. They feed on bad ideas and skinny astronauts.\n",
      "\n",
      "1>------------------------------------------------------------------------------\n",
      "1.1 What flukarians play with (type: subsection_text)\n",
      "Content:\n",
      "Flukarians like to fly high above the clouds and perform impressive aerobatics tricks.\n",
      "Here is a list of favourite toys:\n",
      "a. astronaut\n",
      "b. rocket booster\n",
      "c. clouds\n",
      "\n",
      "2>------------------------------------------------------------------------------\n",
      "1.2 How long do flukarians live? (type: subsection_text)\n",
      "Content:\n",
      "Flukarians can potentially live forever, since they can regenerate all their cells. They\n",
      "therefore in theory can live forever, unless an accident happens to them.\n",
      "\n",
      "3>------------------------------------------------------------------------------\n",
      "2 Birds (type: section_text)\n",
      "Content:\n",
      "Birds are a group of warm-blooded vertebrates constituting the class Aves (/ˈeɪviːz/),\n",
      "characterised by feathers, toothless beaked jaws, the laying of hard-shelled eggs, a high\n",
      "metabolic rate, a four-chambered heart, and a strong yet lightweight skeleton. Birds live\n",
      "worldwide and range in size from the 5.5 cm (2.2 in) bee hummingbird to the 2.8 m (9 ft 2 in)\n",
      "common ostrich. There are over 11,000 living species, more than half of which are\n",
      "passerine, or \"perching\" birds. Birds have wings whose development varies according to\n",
      "species; the only known groups without wings are the extinct moa and elephant birds.\n",
      "Wings, which are modified forelimbs, gave birds the ability to fly, although further evolution\n",
      "has led to the loss of flight in some birds, including ratites, penguins, and diverse endemic\n",
      "island species. The digestive and respiratory systems of birds are also uniquely adapted for\n",
      "flight. Some bird species of aquatic environments, particularly seabirds and some\n",
      "waterbirds, have further evolved for swimming. The study of birds is called ornithology.\n",
      "\n",
      "4>------------------------------------------------------------------------------\n",
      "2.1 What birds play with (type: subsection_text)\n",
      "Content:\n",
      "Birds like to fly and can travel long distances. Birds also need to eat small stones from time\n",
      "to time, since they use them for grinding seeds in their stomach.\n",
      "Here is a list of favourite toys:\n",
      "d. mirrors\n",
      "e. mice\n",
      "f. little stones\n",
      "\n",
      "5>------------------------------------------------------------------------------\n",
      "2.2 How long do birds live? (type: subsection_text)\n",
      "Content:\n",
      "Birds in general have a relatively short life, except for large birds, who can live for several\n",
      "decades.\n",
      "\n",
      "6>------------------------------------------------------------------------------\n",
      "3 Dogs (type: section_text)\n",
      "Content:\n",
      "The dog (Canis familiaris or Canis lupus familiaris) is a domesticated descendant of the wolf.\n",
      "Also called the domestic dog, it is derived from extinct gray wolves, and the gray wolf is the\n",
      "dog's closest living relative. The dog was the first species to be domesticated by humans.\n",
      "Hunter-gatherers did this over 15,000 years ago in Oberkassel, Bonn, which was before the\n",
      "development of agriculture. Due to their long association with humans, dogs have expanded\n",
      "to a large number of domestic individuals and gained the ability to thrive on a starch-rich\n",
      "diet that would be inadequate for other canids.\n",
      "\n",
      "7>------------------------------------------------------------------------------\n",
      "3.1 What dogs play with (type: subsection_text)\n",
      "Content:\n",
      "Dogs like to play with balls and stick. As they are colour blind, the colour of their toys don't\n",
      "really matter. It generally depends on the preference of their owners.\n",
      "Here is a list of favourite toys:\n",
      "g. balls\n",
      "h. stick\n",
      "i. frisbee\n",
      "\n",
      "8>------------------------------------------------------------------------------\n",
      "4 Wolf (type: section_text)\n",
      "Content:\n",
      "The wolf is the ancestor of the dog. It is a wild animal.\n",
      "\n",
      "9>------------------------------------------------------------------------------\n",
      "4.1 What wolves play with (type: subsection_text)\n",
      "Content:\n",
      "Wolves don’t play much. But if they were to play, they would play with:\n",
      "j. balls\n",
      "k. stick\n",
      "l. frisbee\n",
      "\n",
      "10>------------------------------------------------------------------------------\n",
      "5 Cats (type: section_text)\n",
      "Content:\n",
      "The cat (Felis catus), commonly referred to as the domestic cat or house cat, is the only\n",
      "domesticated species in the family Felidae. Recent advances in archaeology and genetics\n",
      "have shown that the domestication of the cat occurred in the Near East around 7500 BC. It is\n",
      "commonly kept as a house pet and farm cat, but also ranges freely as a feral cat avoiding\n",
      "human contact. It is valued by humans for companionship and its ability to kill vermin.\n",
      "Because of its retractable claws, it is adapted to killing small prey like mice and rats. It has a\n",
      "strong, flexible body, quick reflexes, sharp teeth, and its night vision and sense of smell are\n",
      "well developed. It is a social species, but a solitary hunter and a crepuscular predator. Cat\n",
      "communication includes vocalizations like meowing, purring, trilling, hissing, growling, and\n",
      "grunting as well as cat body language. It can hear sounds too faint or too high in frequency\n",
      "for human ears, such as those made by small mammals. It also secretes and perceives\n",
      "pheromones.\n",
      "\n",
      "11>------------------------------------------------------------------------------\n",
      "5.1 What cats play with? (type: subsection_text)\n",
      "Content:\n",
      "Cats like to play with balls, as dogs, but in a different way. It seems like their ball playing is\n",
      "more similar to hunting, rather than pure play.\n",
      "Here is a list of favourite toys:\n",
      "a. balls\n",
      "b. mice\n",
      "c. strings\n",
      "Other toys also exist.\n",
      "\n",
      "12>------------------------------------------------------------------------------\n",
      "5.2 How long do cats live? (type: subsection_text)\n",
      "Content:\n",
      "Cats have nine lives. They therefore live a very long time.\n",
      "\n",
      "13>------------------------------------------------------------------------------\n",
      "6 Airplanes (type: section_text)\n",
      "Content:\n",
      "An airplane (American English) or aeroplane (Commonwealth English), informally plane, is a\n",
      "fixed-wing aircraft that is propelled forward by thrust from a jet engine, propeller, or rocket\n",
      "engine. Airplanes come in a variety of sizes, shapes, and wing configurations. The broad\n",
      "spectrum of uses for airplanes includes recreation, transportation of goods and people,\n",
      "military, and research. Worldwide, commercial aviation transports more than four billion\n",
      "passengers annually on airliners and transports more than 200 billion tonne-kilometers of\n",
      "cargo annually, which is less than 1% of the world's cargo movement. Most airplanes are\n",
      "flown by a pilot on board the aircraft, but some are designed to be remotely or computer-\n",
      "controlled such as drones.\n",
      "\n",
      "14>------------------------------------------------------------------------------\n",
      "6.1 Airplane parts (type: subsection_text)\n",
      "Content:\n",
      "Airplanes are built out of many parts. These include:\n",
      "a. wings\n",
      "b. landing gears\n",
      "c. fuselage\n",
      "\n",
      "15>------------------------------------------------------------------------------\n",
      "7 Boat (type: section_text)\n",
      "Content:\n",
      "A boat is a watercraft of a large range of types and sizes, but generally smaller than a ship,\n",
      "which is distinguished by its larger size, shape, cargo or passenger capacity, or its ability to\n",
      "carry boats.\n",
      "\n",
      "16>------------------------------------------------------------------------------\n",
      "7.1 Boat navigation instruments (type: subsection_text)\n",
      "Content:\n",
      "Boats can navigate the seas using different types of instruments. These include:\n",
      "a. GPS\n",
      "b. sextant\n",
      "c. maps\n",
      "d. visuals\n",
      "\n",
      "17>------------------------------------------------------------------------------\n",
      "8 Philosophy (type: section_text)\n",
      "Content:\n",
      "Philosophy ('love of wisdom' in Ancient Greek) is a systematic study of general and\n",
      "fundamental questions concerning topics like existence, reason, knowledge, value, mind,\n",
      "and language. It is a rational and critical inquiry that reflects on its own methods and\n",
      "assumptions..\n",
      "\n",
      "18>------------------------------------------------------------------------------\n",
      "8.1 Types of philosophy (type: subsection_text)\n",
      "Content:\n",
      "The following list shows prominent philosophers, throughout history:\n",
      "e. Socrates – 399 BC\n",
      "f. Immanuel Kant 1724–1804\n",
      "g. Aristotle 384 BC–323 BC\n",
      "h. Plato\n",
      "i. Kong Qiu\n",
      "j. Voltaire 1694–1778\n",
      "k. John Locke 1632–1704\n",
      "l. Simone de Beauvoir 1908–1986\n",
      "\n",
      "19>------------------------------------------------------------------------------\n",
      " (type: section_text)\n",
      "Content:\n",
      "m. Mary Wollstonecraft 1759–1797\n",
      "\n",
      "\n"
     ]
    }
   ],
   "source": [
    "# Summary\n",
    "print(f'{\"=\"*80}\\n\\nSummary:')\n",
    "print(f'Created {len(_embeddings_with_metadata)} embeddings')\n",
    "print(f'Each embedding is a vector of {len(_embeddings_with_metadata[10]['embedding'])} elements')\n",
    "print(f'\\n{\"=\"*80}\\n')\n",
    "print(f'Let\\'s have a look at the embeddings...')\n",
    "\n",
    "# Display the chunks with metadata\n",
    "for i, chunk in enumerate(_chunks_with_metadata):\n",
    "    content, metadata = chunk\n",
    "    print(f'\\n{i}>{\"-\"*78}')\n",
    "    if metadata['chunk_type'] == 'section_text':\n",
    "        print(f\"{metadata['section_title']} (type: {metadata['chunk_type']})\")\n",
    "    else: # subsection\n",
    "        print(f\"{metadata.get('subsection_title','')} (type: {metadata['chunk_type']})\")\n",
    "    print(f\"Content:\\n{content}\") # content is also in the matadata, key=content\n",
    "\n",
    "print(f'\\n')\n"
   ]
  },
  {
   "cell_type": "markdown",
   "id": "40ecf4e0-3e59-43df-92c0-91ed537e74cc",
   "metadata": {},
   "source": [
    "## Embeddings and vectors\n",
    "\n",
    "Now that embeddings are created out of our document, and that they can be queried for proximity with the question, we can craft a prompt including the embeddings (as text).\n",
    "\n",
    "The function `cosine_similarity` (below) computes the cosine similarity between two vectors, `vec_a` and `vec_b`. \n",
    "\n",
    "Cosine similarity is a measure used in vector space that helps determine how similar the two vectors are, irrespective of their size. Mathematically, it measures the cosine of the angle between two vectors projected in a multi-dimensional space. The cosine similarity is particularly used in high-dimensional positive spaces like text analysis and other kinds of vector-based semantics.\n",
    "\n",
    "Here’s what the function does, step-by-step:\n",
    "\n",
    "1. `dot(vec_a, vec_b)`: This calculates the dot product of the two vectors. The dot product is a scalar representation of the vectors' multiplication, reflecting the sum of the products of their corresponding entries.\n",
    "\n",
    "2. `norm(vec_a)` and `norm(vec_b)`: These calculate the Euclidean norm (or magnitude) of the vectors. The norm of a vector is the square root of the sum of the squares of its components.\n",
    "\n",
    "3. The entire expression `dot(vec_a, vec_b) / (norm(vec_a) * norm(vec_b))` computes the cosine similarity. It divides the dot product of the two vectors by the product of their norms (magnitudes). The result is a value between -1 and 1:\n",
    "\n",
    "   - A cosine similarity of 1 means the vectors are identical in orientation (i.e., they are pointing in the same direction).\n",
    "   - A cosine similarity of -1 means the vectors are diametrically opposed (i.e., they are pointing in completely opposite directions).\n",
    "   - A cosine similarity of 0 means the vectors are orthogonal (i.e., independent or perpendicular to each other in the vector space).\n",
    "   - Values between 0 and 1 indicate varying degrees of similarity, with values closer to 1 signifying greater similarity.\n",
    "\n",
    "This function is commonly used in text analysis, information retrieval, and machine learning to measure how similar two documents or sets of data are based on their vector representations."
   ]
  },
  {
   "cell_type": "code",
   "execution_count": 6,
   "id": "341f2fb8-7a9c-4e60-8045-eeb9884a87d0",
   "metadata": {},
   "outputs": [],
   "source": [
    "from numpy import dot\n",
    "from numpy.linalg import norm\n",
    "\n",
    "def cosine_similarity(vec_a, vec_b):\n",
    "    '''Compute the cosine similarity between two vectors.'''\n",
    "    return dot(vec_a, vec_b) / (norm(vec_a) * norm(vec_b))\n"
   ]
  },
  {
   "cell_type": "markdown",
   "id": "982a6434-b703-4986-af8b-f5fa3b3fff47",
   "metadata": {},
   "source": [
    "Now let's ask a question. To do that, we extract embeddings with similarities to the question (query) embedding.  We then rank them to provide the top ones."
   ]
  },
  {
   "cell_type": "code",
   "execution_count": 22,
   "id": "acdd021a-c647-4efa-8b39-19114d2db5d2",
   "metadata": {},
   "outputs": [],
   "source": [
    "def best_embeddings(query_embedding, document_embeddings):\n",
    "    # Compute similarities\n",
    "    similarities = [cosine_similarity(query_embedding, doc_emb) for doc_emb in document_embeddings]\n",
    "    \n",
    "    # Rank documents based on similarity\n",
    "    ranked_docs = sorted(range(len(similarities)), key=lambda i: similarities[i], reverse=True)\n",
    "    \n",
    "    # Get top N documents\n",
    "    top_n = 10\n",
    "    top_docs_indices = ranked_docs[:top_n]\n",
    "    return top_docs_indices\n"
   ]
  },
  {
   "cell_type": "code",
   "execution_count": 8,
   "id": "6e482a3c-08c4-4793-967b-0f795bcd2481",
   "metadata": {},
   "outputs": [],
   "source": [
    "def print_best_embeddings(question, top_docs_indices):\n",
    "    print(f\"To the question: \\\"{question}\\\", the most interesting chunks are:\\n\\n\")\n",
    "    texts = get_text_content()\n",
    "    for i in top_docs_indices:\n",
    "        print(f\"{i}>{'-'*78}\\n{texts[i]}\\n\")\n",
    "    "
   ]
  },
  {
   "cell_type": "code",
   "execution_count": 9,
   "id": "66b462d8-c733-4d2f-bc89-5f3d172dabe8",
   "metadata": {},
   "outputs": [
    {
     "name": "stdout",
     "output_type": "stream",
     "text": [
      "To the question: \"Which animal is challenged to see all tones?\", the most interesting chunks are:\n",
      "\n",
      "\n",
      "7>------------------------------------------------------------------------------\n",
      "Dogs like to play with balls and stick. As they are colour blind, the colour of their toys don't\n",
      "really matter. It generally depends on the preference of their owners.\n",
      "Here is a list of favourite toys:\n",
      "g. balls\n",
      "h. stick\n",
      "i. frisbee\n",
      "\n",
      "6>------------------------------------------------------------------------------\n",
      "The dog (Canis familiaris or Canis lupus familiaris) is a domesticated descendant of the wolf.\n",
      "Also called the domestic dog, it is derived from extinct gray wolves, and the gray wolf is the\n",
      "dog's closest living relative. The dog was the first species to be domesticated by humans.\n",
      "Hunter-gatherers did this over 15,000 years ago in Oberkassel, Bonn, which was before the\n",
      "development of agriculture. Due to their long association with humans, dogs have expanded\n",
      "to a large number of domestic individuals and gained the ability to thrive on a starch-rich\n",
      "diet that would be inadequate for other canids.\n",
      "\n",
      "8>------------------------------------------------------------------------------\n",
      "The wolf is the ancestor of the dog. It is a wild animal.\n",
      "\n",
      "10>------------------------------------------------------------------------------\n",
      "The cat (Felis catus), commonly referred to as the domestic cat or house cat, is the only\n",
      "domesticated species in the family Felidae. Recent advances in archaeology and genetics\n",
      "have shown that the domestication of the cat occurred in the Near East around 7500 BC. It is\n",
      "commonly kept as a house pet and farm cat, but also ranges freely as a feral cat avoiding\n",
      "human contact. It is valued by humans for companionship and its ability to kill vermin.\n",
      "Because of its retractable claws, it is adapted to killing small prey like mice and rats. It has a\n",
      "strong, flexible body, quick reflexes, sharp teeth, and its night vision and sense of smell are\n",
      "well developed. It is a social species, but a solitary hunter and a crepuscular predator. Cat\n",
      "communication includes vocalizations like meowing, purring, trilling, hissing, growling, and\n",
      "grunting as well as cat body language. It can hear sounds too faint or too high in frequency\n",
      "for human ears, such as those made by small mammals. It also secretes and perceives\n",
      "pheromones.\n",
      "\n"
     ]
    }
   ],
   "source": [
    "question = 'What toys do cats play with?'\n",
    "question = 'Which animal is colour blind?'\n",
    "question = 'Which animal is challenged to see all tones?'\n",
    "# question = 'Who enjoys round things?'\n",
    "# question = 'Who enjoys playing with small mammals?'\n",
    "\n",
    "def show_best_embeddings(question):\n",
    "    embeddings = get_embeddings()\n",
    "    question_embedding = model.encode([question])[0]  # Encode the chunk and take the first element (the vector)\n",
    "    print_best_embeddings(question, best_embeddings(question_embedding, embeddings))\n",
    "    return\n",
    "\n",
    "show_best_embeddings(question)"
   ]
  },
  {
   "cell_type": "markdown",
   "id": "791c167d-753e-4830-9295-c1549dac2087",
   "metadata": {},
   "source": [
    "## Visualisation of embeddings\n",
    "\n",
    "We can cluster embeddings, such that we can visualise their proximity or similarity, and/or detect anomalies."
   ]
  },
  {
   "cell_type": "code",
   "execution_count": 10,
   "id": "ba5cd3ed-3b17-4dc7-8051-10e7558f0ecc",
   "metadata": {},
   "outputs": [
    {
     "name": "stderr",
     "output_type": "stream",
     "text": [
      "huggingface/tokenizers: The current process just got forked, after parallelism has already been used. Disabling parallelism to avoid deadlocks...\n",
      "To disable this warning, you can either:\n",
      "\t- Avoid using `tokenizers` before the fork if possible\n",
      "\t- Explicitly set the environment variable TOKENIZERS_PARALLELISM=(true | false)\n"
     ]
    }
   ],
   "source": [
    "!pip install -qq umap-learn seaborn plotly"
   ]
  },
  {
   "cell_type": "code",
   "execution_count": 17,
   "id": "225eef4f-545b-4fa2-a20b-8647b3fbda18",
   "metadata": {},
   "outputs": [],
   "source": [
    "import umap.umap_ as umap\n",
    "import plotly.express as px\n",
    "import pandas as pd\n",
    "\n",
    "\n",
    "def plot_umap_with_labels(data, texts, n_neighbors=10, min_dist=0.1):\n",
    "\n",
    "    reducer = umap.UMAP(n_neighbors=n_neighbors, min_dist=min_dist, random_state=42, n_jobs=1)\n",
    "\n",
    "    # Fit and transform the data\n",
    "    embedding = reducer.fit_transform(data)\n",
    "\n",
    "    df = pd.DataFrame({\n",
    "        'embedding_x': embedding[:, 0],\n",
    "        'embedding_y': embedding[:, 1],\n",
    "        'text': map(lambda x: x[:50], texts) # Truncate strings to the first 10 characters\n",
    "    })\n",
    "\n",
    "    fig = px.scatter(df, x='embedding_x', y='embedding_y',\n",
    "                     hover_data={'embedding_x': False, 'embedding_y': False, 'text': True},\n",
    "                    )\n",
    "    fig.update_layout(\n",
    "        title={\n",
    "            'text': \"Embeddings grouping\",\n",
    "            'y':0.9,\n",
    "            'x':0.5,\n",
    "            'xanchor': 'center',\n",
    "            'yanchor': 'top'\n",
    "        },\n",
    "    )\n",
    "    \n",
    "    fig.show()\n",
    "    return\n"
   ]
  },
  {
   "cell_type": "code",
   "execution_count": 18,
   "id": "5fcf50f3-42ee-4338-b526-b9c385412f82",
   "metadata": {},
   "outputs": [
    {
     "data": {
      "application/vnd.plotly.v1+json": {
       "config": {
        "plotlyServerURL": "https://plot.ly"
       },
       "data": [
        {
         "customdata": [
          [
           "The flukarian (Flukaris familiaris or Flukaris win"
          ],
          [
           "Flukarians like to fly high above the clouds and p"
          ],
          [
           "Flukarians can potentially live forever, since the"
          ],
          [
           "Birds are a group of warm-blooded vertebrates cons"
          ],
          [
           "Birds like to fly and can travel long distances. B"
          ],
          [
           "Birds in general have a relatively short life, exc"
          ],
          [
           "The dog (Canis familiaris or Canis lupus familiari"
          ],
          [
           "Dogs like to play with balls and stick. As they ar"
          ],
          [
           "The wolf is the ancestor of the dog. It is a wild "
          ],
          [
           "Wolves don’t play much. But if they were to play, "
          ],
          [
           "The cat (Felis catus), commonly referred to as the"
          ],
          [
           "Cats like to play with balls, as dogs, but in a di"
          ],
          [
           "Cats have nine lives. They therefore live a very l"
          ],
          [
           "An airplane (American English) or aeroplane (Commo"
          ],
          [
           "Airplanes are built out of many parts. These inclu"
          ],
          [
           "A boat is a watercraft of a large range of types a"
          ],
          [
           "Boats can navigate the seas using different types "
          ],
          [
           "Philosophy ('love of wisdom' in Ancient Greek) is "
          ],
          [
           "The following list shows prominent philosophers, t"
          ],
          [
           "m. Mary Wollstonecraft 1759–1797"
          ]
         ],
         "hovertemplate": "text=%{customdata[0]}<extra></extra>",
         "legendgroup": "",
         "marker": {
          "color": "#636efa",
          "symbol": "circle"
         },
         "mode": "markers",
         "name": "",
         "orientation": "v",
         "showlegend": false,
         "type": "scatter",
         "x": [
          -5.2796196937561035,
          -4.931886672973633,
          -5.603898048400879,
          -5.017021179199219,
          -5.382837772369385,
          -5.631869316101074,
          -6.437267780303955,
          -6.156965732574463,
          -6.914090633392334,
          -6.658764839172363,
          -6.827746868133545,
          -6.194350719451904,
          -6.380027770996094,
          -4.4212327003479,
          -4.161703586578369,
          -3.8787057399749756,
          -3.463904619216919,
          -3.8579134941101074,
          -3.3199100494384766,
          -3.0932915210723877
         ],
         "xaxis": "x",
         "y": [
          3.524904489517212,
          2.87371826171875,
          4.051634311676025,
          4.3019208908081055,
          2.6774377822875977,
          4.644874572753906,
          3.6221771240234375,
          2.4107892513275146,
          3.2596354484558105,
          2.5438053607940674,
          3.9660143852233887,
          2.9342474937438965,
          4.418112754821777,
          3.4875824451446533,
          3.0094571113586426,
          3.503304958343506,
          3.049971342086792,
          4.254895210266113,
          4.283156394958496,
          3.8131206035614014
         ],
         "yaxis": "y"
        }
       ],
       "layout": {
        "autosize": true,
        "legend": {
         "tracegroupgap": 0
        },
        "margin": {
         "t": 60
        },
        "template": {
         "data": {
          "bar": [
           {
            "error_x": {
             "color": "#2a3f5f"
            },
            "error_y": {
             "color": "#2a3f5f"
            },
            "marker": {
             "line": {
              "color": "#E5ECF6",
              "width": 0.5
             },
             "pattern": {
              "fillmode": "overlay",
              "size": 10,
              "solidity": 0.2
             }
            },
            "type": "bar"
           }
          ],
          "barpolar": [
           {
            "marker": {
             "line": {
              "color": "#E5ECF6",
              "width": 0.5
             },
             "pattern": {
              "fillmode": "overlay",
              "size": 10,
              "solidity": 0.2
             }
            },
            "type": "barpolar"
           }
          ],
          "carpet": [
           {
            "aaxis": {
             "endlinecolor": "#2a3f5f",
             "gridcolor": "white",
             "linecolor": "white",
             "minorgridcolor": "white",
             "startlinecolor": "#2a3f5f"
            },
            "baxis": {
             "endlinecolor": "#2a3f5f",
             "gridcolor": "white",
             "linecolor": "white",
             "minorgridcolor": "white",
             "startlinecolor": "#2a3f5f"
            },
            "type": "carpet"
           }
          ],
          "choropleth": [
           {
            "colorbar": {
             "outlinewidth": 0,
             "ticks": ""
            },
            "type": "choropleth"
           }
          ],
          "contour": [
           {
            "colorbar": {
             "outlinewidth": 0,
             "ticks": ""
            },
            "colorscale": [
             [
              0,
              "#0d0887"
             ],
             [
              0.1111111111111111,
              "#46039f"
             ],
             [
              0.2222222222222222,
              "#7201a8"
             ],
             [
              0.3333333333333333,
              "#9c179e"
             ],
             [
              0.4444444444444444,
              "#bd3786"
             ],
             [
              0.5555555555555556,
              "#d8576b"
             ],
             [
              0.6666666666666666,
              "#ed7953"
             ],
             [
              0.7777777777777778,
              "#fb9f3a"
             ],
             [
              0.8888888888888888,
              "#fdca26"
             ],
             [
              1,
              "#f0f921"
             ]
            ],
            "type": "contour"
           }
          ],
          "contourcarpet": [
           {
            "colorbar": {
             "outlinewidth": 0,
             "ticks": ""
            },
            "type": "contourcarpet"
           }
          ],
          "heatmap": [
           {
            "colorbar": {
             "outlinewidth": 0,
             "ticks": ""
            },
            "colorscale": [
             [
              0,
              "#0d0887"
             ],
             [
              0.1111111111111111,
              "#46039f"
             ],
             [
              0.2222222222222222,
              "#7201a8"
             ],
             [
              0.3333333333333333,
              "#9c179e"
             ],
             [
              0.4444444444444444,
              "#bd3786"
             ],
             [
              0.5555555555555556,
              "#d8576b"
             ],
             [
              0.6666666666666666,
              "#ed7953"
             ],
             [
              0.7777777777777778,
              "#fb9f3a"
             ],
             [
              0.8888888888888888,
              "#fdca26"
             ],
             [
              1,
              "#f0f921"
             ]
            ],
            "type": "heatmap"
           }
          ],
          "heatmapgl": [
           {
            "colorbar": {
             "outlinewidth": 0,
             "ticks": ""
            },
            "colorscale": [
             [
              0,
              "#0d0887"
             ],
             [
              0.1111111111111111,
              "#46039f"
             ],
             [
              0.2222222222222222,
              "#7201a8"
             ],
             [
              0.3333333333333333,
              "#9c179e"
             ],
             [
              0.4444444444444444,
              "#bd3786"
             ],
             [
              0.5555555555555556,
              "#d8576b"
             ],
             [
              0.6666666666666666,
              "#ed7953"
             ],
             [
              0.7777777777777778,
              "#fb9f3a"
             ],
             [
              0.8888888888888888,
              "#fdca26"
             ],
             [
              1,
              "#f0f921"
             ]
            ],
            "type": "heatmapgl"
           }
          ],
          "histogram": [
           {
            "marker": {
             "pattern": {
              "fillmode": "overlay",
              "size": 10,
              "solidity": 0.2
             }
            },
            "type": "histogram"
           }
          ],
          "histogram2d": [
           {
            "colorbar": {
             "outlinewidth": 0,
             "ticks": ""
            },
            "colorscale": [
             [
              0,
              "#0d0887"
             ],
             [
              0.1111111111111111,
              "#46039f"
             ],
             [
              0.2222222222222222,
              "#7201a8"
             ],
             [
              0.3333333333333333,
              "#9c179e"
             ],
             [
              0.4444444444444444,
              "#bd3786"
             ],
             [
              0.5555555555555556,
              "#d8576b"
             ],
             [
              0.6666666666666666,
              "#ed7953"
             ],
             [
              0.7777777777777778,
              "#fb9f3a"
             ],
             [
              0.8888888888888888,
              "#fdca26"
             ],
             [
              1,
              "#f0f921"
             ]
            ],
            "type": "histogram2d"
           }
          ],
          "histogram2dcontour": [
           {
            "colorbar": {
             "outlinewidth": 0,
             "ticks": ""
            },
            "colorscale": [
             [
              0,
              "#0d0887"
             ],
             [
              0.1111111111111111,
              "#46039f"
             ],
             [
              0.2222222222222222,
              "#7201a8"
             ],
             [
              0.3333333333333333,
              "#9c179e"
             ],
             [
              0.4444444444444444,
              "#bd3786"
             ],
             [
              0.5555555555555556,
              "#d8576b"
             ],
             [
              0.6666666666666666,
              "#ed7953"
             ],
             [
              0.7777777777777778,
              "#fb9f3a"
             ],
             [
              0.8888888888888888,
              "#fdca26"
             ],
             [
              1,
              "#f0f921"
             ]
            ],
            "type": "histogram2dcontour"
           }
          ],
          "mesh3d": [
           {
            "colorbar": {
             "outlinewidth": 0,
             "ticks": ""
            },
            "type": "mesh3d"
           }
          ],
          "parcoords": [
           {
            "line": {
             "colorbar": {
              "outlinewidth": 0,
              "ticks": ""
             }
            },
            "type": "parcoords"
           }
          ],
          "pie": [
           {
            "automargin": true,
            "type": "pie"
           }
          ],
          "scatter": [
           {
            "fillpattern": {
             "fillmode": "overlay",
             "size": 10,
             "solidity": 0.2
            },
            "type": "scatter"
           }
          ],
          "scatter3d": [
           {
            "line": {
             "colorbar": {
              "outlinewidth": 0,
              "ticks": ""
             }
            },
            "marker": {
             "colorbar": {
              "outlinewidth": 0,
              "ticks": ""
             }
            },
            "type": "scatter3d"
           }
          ],
          "scattercarpet": [
           {
            "marker": {
             "colorbar": {
              "outlinewidth": 0,
              "ticks": ""
             }
            },
            "type": "scattercarpet"
           }
          ],
          "scattergeo": [
           {
            "marker": {
             "colorbar": {
              "outlinewidth": 0,
              "ticks": ""
             }
            },
            "type": "scattergeo"
           }
          ],
          "scattergl": [
           {
            "marker": {
             "colorbar": {
              "outlinewidth": 0,
              "ticks": ""
             }
            },
            "type": "scattergl"
           }
          ],
          "scattermapbox": [
           {
            "marker": {
             "colorbar": {
              "outlinewidth": 0,
              "ticks": ""
             }
            },
            "type": "scattermapbox"
           }
          ],
          "scatterpolar": [
           {
            "marker": {
             "colorbar": {
              "outlinewidth": 0,
              "ticks": ""
             }
            },
            "type": "scatterpolar"
           }
          ],
          "scatterpolargl": [
           {
            "marker": {
             "colorbar": {
              "outlinewidth": 0,
              "ticks": ""
             }
            },
            "type": "scatterpolargl"
           }
          ],
          "scatterternary": [
           {
            "marker": {
             "colorbar": {
              "outlinewidth": 0,
              "ticks": ""
             }
            },
            "type": "scatterternary"
           }
          ],
          "surface": [
           {
            "colorbar": {
             "outlinewidth": 0,
             "ticks": ""
            },
            "colorscale": [
             [
              0,
              "#0d0887"
             ],
             [
              0.1111111111111111,
              "#46039f"
             ],
             [
              0.2222222222222222,
              "#7201a8"
             ],
             [
              0.3333333333333333,
              "#9c179e"
             ],
             [
              0.4444444444444444,
              "#bd3786"
             ],
             [
              0.5555555555555556,
              "#d8576b"
             ],
             [
              0.6666666666666666,
              "#ed7953"
             ],
             [
              0.7777777777777778,
              "#fb9f3a"
             ],
             [
              0.8888888888888888,
              "#fdca26"
             ],
             [
              1,
              "#f0f921"
             ]
            ],
            "type": "surface"
           }
          ],
          "table": [
           {
            "cells": {
             "fill": {
              "color": "#EBF0F8"
             },
             "line": {
              "color": "white"
             }
            },
            "header": {
             "fill": {
              "color": "#C8D4E3"
             },
             "line": {
              "color": "white"
             }
            },
            "type": "table"
           }
          ]
         },
         "layout": {
          "annotationdefaults": {
           "arrowcolor": "#2a3f5f",
           "arrowhead": 0,
           "arrowwidth": 1
          },
          "autotypenumbers": "strict",
          "coloraxis": {
           "colorbar": {
            "outlinewidth": 0,
            "ticks": ""
           }
          },
          "colorscale": {
           "diverging": [
            [
             0,
             "#8e0152"
            ],
            [
             0.1,
             "#c51b7d"
            ],
            [
             0.2,
             "#de77ae"
            ],
            [
             0.3,
             "#f1b6da"
            ],
            [
             0.4,
             "#fde0ef"
            ],
            [
             0.5,
             "#f7f7f7"
            ],
            [
             0.6,
             "#e6f5d0"
            ],
            [
             0.7,
             "#b8e186"
            ],
            [
             0.8,
             "#7fbc41"
            ],
            [
             0.9,
             "#4d9221"
            ],
            [
             1,
             "#276419"
            ]
           ],
           "sequential": [
            [
             0,
             "#0d0887"
            ],
            [
             0.1111111111111111,
             "#46039f"
            ],
            [
             0.2222222222222222,
             "#7201a8"
            ],
            [
             0.3333333333333333,
             "#9c179e"
            ],
            [
             0.4444444444444444,
             "#bd3786"
            ],
            [
             0.5555555555555556,
             "#d8576b"
            ],
            [
             0.6666666666666666,
             "#ed7953"
            ],
            [
             0.7777777777777778,
             "#fb9f3a"
            ],
            [
             0.8888888888888888,
             "#fdca26"
            ],
            [
             1,
             "#f0f921"
            ]
           ],
           "sequentialminus": [
            [
             0,
             "#0d0887"
            ],
            [
             0.1111111111111111,
             "#46039f"
            ],
            [
             0.2222222222222222,
             "#7201a8"
            ],
            [
             0.3333333333333333,
             "#9c179e"
            ],
            [
             0.4444444444444444,
             "#bd3786"
            ],
            [
             0.5555555555555556,
             "#d8576b"
            ],
            [
             0.6666666666666666,
             "#ed7953"
            ],
            [
             0.7777777777777778,
             "#fb9f3a"
            ],
            [
             0.8888888888888888,
             "#fdca26"
            ],
            [
             1,
             "#f0f921"
            ]
           ]
          },
          "colorway": [
           "#636efa",
           "#EF553B",
           "#00cc96",
           "#ab63fa",
           "#FFA15A",
           "#19d3f3",
           "#FF6692",
           "#B6E880",
           "#FF97FF",
           "#FECB52"
          ],
          "font": {
           "color": "#2a3f5f"
          },
          "geo": {
           "bgcolor": "white",
           "lakecolor": "white",
           "landcolor": "#E5ECF6",
           "showlakes": true,
           "showland": true,
           "subunitcolor": "white"
          },
          "hoverlabel": {
           "align": "left"
          },
          "hovermode": "closest",
          "mapbox": {
           "style": "light"
          },
          "paper_bgcolor": "white",
          "plot_bgcolor": "#E5ECF6",
          "polar": {
           "angularaxis": {
            "gridcolor": "white",
            "linecolor": "white",
            "ticks": ""
           },
           "bgcolor": "#E5ECF6",
           "radialaxis": {
            "gridcolor": "white",
            "linecolor": "white",
            "ticks": ""
           }
          },
          "scene": {
           "xaxis": {
            "backgroundcolor": "#E5ECF6",
            "gridcolor": "white",
            "gridwidth": 2,
            "linecolor": "white",
            "showbackground": true,
            "ticks": "",
            "zerolinecolor": "white"
           },
           "yaxis": {
            "backgroundcolor": "#E5ECF6",
            "gridcolor": "white",
            "gridwidth": 2,
            "linecolor": "white",
            "showbackground": true,
            "ticks": "",
            "zerolinecolor": "white"
           },
           "zaxis": {
            "backgroundcolor": "#E5ECF6",
            "gridcolor": "white",
            "gridwidth": 2,
            "linecolor": "white",
            "showbackground": true,
            "ticks": "",
            "zerolinecolor": "white"
           }
          },
          "shapedefaults": {
           "line": {
            "color": "#2a3f5f"
           }
          },
          "ternary": {
           "aaxis": {
            "gridcolor": "white",
            "linecolor": "white",
            "ticks": ""
           },
           "baxis": {
            "gridcolor": "white",
            "linecolor": "white",
            "ticks": ""
           },
           "bgcolor": "#E5ECF6",
           "caxis": {
            "gridcolor": "white",
            "linecolor": "white",
            "ticks": ""
           }
          },
          "title": {
           "x": 0.05
          },
          "xaxis": {
           "automargin": true,
           "gridcolor": "white",
           "linecolor": "white",
           "ticks": "",
           "title": {
            "standoff": 15
           },
           "zerolinecolor": "white",
           "zerolinewidth": 2
          },
          "yaxis": {
           "automargin": true,
           "gridcolor": "white",
           "linecolor": "white",
           "ticks": "",
           "title": {
            "standoff": 15
           },
           "zerolinecolor": "white",
           "zerolinewidth": 2
          }
         }
        },
        "title": {
         "text": "Embeddings grouping",
         "x": 0.5,
         "xanchor": "center",
         "y": 0.9,
         "yanchor": "top"
        },
        "xaxis": {
         "anchor": "y",
         "autorange": true,
         "domain": [
          0,
          1
         ],
         "range": [
          -7.147423806653635,
          -2.8599583478110864
         ],
         "title": {
          "text": "embedding_x"
         },
         "type": "linear"
        },
        "yaxis": {
         "anchor": "x",
         "autorange": true,
         "domain": [
          0,
          1
         ],
         "range": [
          2.2378088917945003,
          4.817854932286921
         ],
         "title": {
          "text": "embedding_y"
         },
         "type": "linear"
        }
       }
      },
      "image/png": "[encoded data removed]",
      "text/html": [
       "<div>                            <div id=\"c478755b-dbe2-4f40-a7de-94a6862a974a\" class=\"plotly-graph-div\" style=\"height:525px; width:100%;\"></div>            <script type=\"text/javascript\">                require([\"plotly\"], function(Plotly) {                    window.PLOTLYENV=window.PLOTLYENV || {};                                    if (document.getElementById(\"c478755b-dbe2-4f40-a7de-94a6862a974a\")) {                    Plotly.newPlot(                        \"c478755b-dbe2-4f40-a7de-94a6862a974a\",                        [{\"customdata\":[[\"The flukarian (Flukaris familiaris or Flukaris win\"],[\"Flukarians like to fly high above the clouds and p\"],[\"Flukarians can potentially live forever, since the\"],[\"Birds are a group of warm-blooded vertebrates cons\"],[\"Birds like to fly and can travel long distances. B\"],[\"Birds in general have a relatively short life, exc\"],[\"The dog (Canis familiaris or Canis lupus familiari\"],[\"Dogs like to play with balls and stick. As they ar\"],[\"The wolf is the ancestor of the dog. It is a wild \"],[\"Wolves don\\u2019t play much. But if they were to play, \"],[\"The cat (Felis catus), commonly referred to as the\"],[\"Cats like to play with balls, as dogs, but in a di\"],[\"Cats have nine lives. They therefore live a very l\"],[\"An airplane (American English) or aeroplane (Commo\"],[\"Airplanes are built out of many parts. These inclu\"],[\"A boat is a watercraft of a large range of types a\"],[\"Boats can navigate the seas using different types \"],[\"Philosophy ('love of wisdom' in Ancient Greek) is \"],[\"The following list shows prominent philosophers, t\"],[\"m. Mary Wollstonecraft 1759\\u20131797\"]],\"hovertemplate\":\"text=%{customdata[0]}\\u003cextra\\u003e\\u003c\\u002fextra\\u003e\",\"legendgroup\":\"\",\"marker\":{\"color\":\"#636efa\",\"symbol\":\"circle\"},\"mode\":\"markers\",\"name\":\"\",\"orientation\":\"v\",\"showlegend\":false,\"x\":[-5.2796196937561035,-4.931886672973633,-5.603898048400879,-5.017021179199219,-5.382837772369385,-5.631869316101074,-6.437267780303955,-6.156965732574463,-6.914090633392334,-6.658764839172363,-6.827746868133545,-6.194350719451904,-6.380027770996094,-4.4212327003479,-4.161703586578369,-3.8787057399749756,-3.463904619216919,-3.8579134941101074,-3.3199100494384766,-3.0932915210723877],\"xaxis\":\"x\",\"y\":[3.524904489517212,2.87371826171875,4.051634311676025,4.3019208908081055,2.6774377822875977,4.644874572753906,3.6221771240234375,2.4107892513275146,3.2596354484558105,2.5438053607940674,3.9660143852233887,2.9342474937438965,4.418112754821777,3.4875824451446533,3.0094571113586426,3.503304958343506,3.049971342086792,4.254895210266113,4.283156394958496,3.8131206035614014],\"yaxis\":\"y\",\"type\":\"scatter\"}],                        {\"template\":{\"data\":{\"histogram2dcontour\":[{\"type\":\"histogram2dcontour\",\"colorbar\":{\"outlinewidth\":0,\"ticks\":\"\"},\"colorscale\":[[0.0,\"#0d0887\"],[0.1111111111111111,\"#46039f\"],[0.2222222222222222,\"#7201a8\"],[0.3333333333333333,\"#9c179e\"],[0.4444444444444444,\"#bd3786\"],[0.5555555555555556,\"#d8576b\"],[0.6666666666666666,\"#ed7953\"],[0.7777777777777778,\"#fb9f3a\"],[0.8888888888888888,\"#fdca26\"],[1.0,\"#f0f921\"]]}],\"choropleth\":[{\"type\":\"choropleth\",\"colorbar\":{\"outlinewidth\":0,\"ticks\":\"\"}}],\"histogram2d\":[{\"type\":\"histogram2d\",\"colorbar\":{\"outlinewidth\":0,\"ticks\":\"\"},\"colorscale\":[[0.0,\"#0d0887\"],[0.1111111111111111,\"#46039f\"],[0.2222222222222222,\"#7201a8\"],[0.3333333333333333,\"#9c179e\"],[0.4444444444444444,\"#bd3786\"],[0.5555555555555556,\"#d8576b\"],[0.6666666666666666,\"#ed7953\"],[0.7777777777777778,\"#fb9f3a\"],[0.8888888888888888,\"#fdca26\"],[1.0,\"#f0f921\"]]}],\"heatmap\":[{\"type\":\"heatmap\",\"colorbar\":{\"outlinewidth\":0,\"ticks\":\"\"},\"colorscale\":[[0.0,\"#0d0887\"],[0.1111111111111111,\"#46039f\"],[0.2222222222222222,\"#7201a8\"],[0.3333333333333333,\"#9c179e\"],[0.4444444444444444,\"#bd3786\"],[0.5555555555555556,\"#d8576b\"],[0.6666666666666666,\"#ed7953\"],[0.7777777777777778,\"#fb9f3a\"],[0.8888888888888888,\"#fdca26\"],[1.0,\"#f0f921\"]]}],\"heatmapgl\":[{\"type\":\"heatmapgl\",\"colorbar\":{\"outlinewidth\":0,\"ticks\":\"\"},\"colorscale\":[[0.0,\"#0d0887\"],[0.1111111111111111,\"#46039f\"],[0.2222222222222222,\"#7201a8\"],[0.3333333333333333,\"#9c179e\"],[0.4444444444444444,\"#bd3786\"],[0.5555555555555556,\"#d8576b\"],[0.6666666666666666,\"#ed7953\"],[0.7777777777777778,\"#fb9f3a\"],[0.8888888888888888,\"#fdca26\"],[1.0,\"#f0f921\"]]}],\"contourcarpet\":[{\"type\":\"contourcarpet\",\"colorbar\":{\"outlinewidth\":0,\"ticks\":\"\"}}],\"contour\":[{\"type\":\"contour\",\"colorbar\":{\"outlinewidth\":0,\"ticks\":\"\"},\"colorscale\":[[0.0,\"#0d0887\"],[0.1111111111111111,\"#46039f\"],[0.2222222222222222,\"#7201a8\"],[0.3333333333333333,\"#9c179e\"],[0.4444444444444444,\"#bd3786\"],[0.5555555555555556,\"#d8576b\"],[0.6666666666666666,\"#ed7953\"],[0.7777777777777778,\"#fb9f3a\"],[0.8888888888888888,\"#fdca26\"],[1.0,\"#f0f921\"]]}],\"surface\":[{\"type\":\"surface\",\"colorbar\":{\"outlinewidth\":0,\"ticks\":\"\"},\"colorscale\":[[0.0,\"#0d0887\"],[0.1111111111111111,\"#46039f\"],[0.2222222222222222,\"#7201a8\"],[0.3333333333333333,\"#9c179e\"],[0.4444444444444444,\"#bd3786\"],[0.5555555555555556,\"#d8576b\"],[0.6666666666666666,\"#ed7953\"],[0.7777777777777778,\"#fb9f3a\"],[0.8888888888888888,\"#fdca26\"],[1.0,\"#f0f921\"]]}],\"mesh3d\":[{\"type\":\"mesh3d\",\"colorbar\":{\"outlinewidth\":0,\"ticks\":\"\"}}],\"scatter\":[{\"fillpattern\":{\"fillmode\":\"overlay\",\"size\":10,\"solidity\":0.2},\"type\":\"scatter\"}],\"parcoords\":[{\"type\":\"parcoords\",\"line\":{\"colorbar\":{\"outlinewidth\":0,\"ticks\":\"\"}}}],\"scatterpolargl\":[{\"type\":\"scatterpolargl\",\"marker\":{\"colorbar\":{\"outlinewidth\":0,\"ticks\":\"\"}}}],\"bar\":[{\"error_x\":{\"color\":\"#2a3f5f\"},\"error_y\":{\"color\":\"#2a3f5f\"},\"marker\":{\"line\":{\"color\":\"#E5ECF6\",\"width\":0.5},\"pattern\":{\"fillmode\":\"overlay\",\"size\":10,\"solidity\":0.2}},\"type\":\"bar\"}],\"scattergeo\":[{\"type\":\"scattergeo\",\"marker\":{\"colorbar\":{\"outlinewidth\":0,\"ticks\":\"\"}}}],\"scatterpolar\":[{\"type\":\"scatterpolar\",\"marker\":{\"colorbar\":{\"outlinewidth\":0,\"ticks\":\"\"}}}],\"histogram\":[{\"marker\":{\"pattern\":{\"fillmode\":\"overlay\",\"size\":10,\"solidity\":0.2}},\"type\":\"histogram\"}],\"scattergl\":[{\"type\":\"scattergl\",\"marker\":{\"colorbar\":{\"outlinewidth\":0,\"ticks\":\"\"}}}],\"scatter3d\":[{\"type\":\"scatter3d\",\"line\":{\"colorbar\":{\"outlinewidth\":0,\"ticks\":\"\"}},\"marker\":{\"colorbar\":{\"outlinewidth\":0,\"ticks\":\"\"}}}],\"scattermapbox\":[{\"type\":\"scattermapbox\",\"marker\":{\"colorbar\":{\"outlinewidth\":0,\"ticks\":\"\"}}}],\"scatterternary\":[{\"type\":\"scatterternary\",\"marker\":{\"colorbar\":{\"outlinewidth\":0,\"ticks\":\"\"}}}],\"scattercarpet\":[{\"type\":\"scattercarpet\",\"marker\":{\"colorbar\":{\"outlinewidth\":0,\"ticks\":\"\"}}}],\"carpet\":[{\"aaxis\":{\"endlinecolor\":\"#2a3f5f\",\"gridcolor\":\"white\",\"linecolor\":\"white\",\"minorgridcolor\":\"white\",\"startlinecolor\":\"#2a3f5f\"},\"baxis\":{\"endlinecolor\":\"#2a3f5f\",\"gridcolor\":\"white\",\"linecolor\":\"white\",\"minorgridcolor\":\"white\",\"startlinecolor\":\"#2a3f5f\"},\"type\":\"carpet\"}],\"table\":[{\"cells\":{\"fill\":{\"color\":\"#EBF0F8\"},\"line\":{\"color\":\"white\"}},\"header\":{\"fill\":{\"color\":\"#C8D4E3\"},\"line\":{\"color\":\"white\"}},\"type\":\"table\"}],\"barpolar\":[{\"marker\":{\"line\":{\"color\":\"#E5ECF6\",\"width\":0.5},\"pattern\":{\"fillmode\":\"overlay\",\"size\":10,\"solidity\":0.2}},\"type\":\"barpolar\"}],\"pie\":[{\"automargin\":true,\"type\":\"pie\"}]},\"layout\":{\"autotypenumbers\":\"strict\",\"colorway\":[\"#636efa\",\"#EF553B\",\"#00cc96\",\"#ab63fa\",\"#FFA15A\",\"#19d3f3\",\"#FF6692\",\"#B6E880\",\"#FF97FF\",\"#FECB52\"],\"font\":{\"color\":\"#2a3f5f\"},\"hovermode\":\"closest\",\"hoverlabel\":{\"align\":\"left\"},\"paper_bgcolor\":\"white\",\"plot_bgcolor\":\"#E5ECF6\",\"polar\":{\"bgcolor\":\"#E5ECF6\",\"angularaxis\":{\"gridcolor\":\"white\",\"linecolor\":\"white\",\"ticks\":\"\"},\"radialaxis\":{\"gridcolor\":\"white\",\"linecolor\":\"white\",\"ticks\":\"\"}},\"ternary\":{\"bgcolor\":\"#E5ECF6\",\"aaxis\":{\"gridcolor\":\"white\",\"linecolor\":\"white\",\"ticks\":\"\"},\"baxis\":{\"gridcolor\":\"white\",\"linecolor\":\"white\",\"ticks\":\"\"},\"caxis\":{\"gridcolor\":\"white\",\"linecolor\":\"white\",\"ticks\":\"\"}},\"coloraxis\":{\"colorbar\":{\"outlinewidth\":0,\"ticks\":\"\"}},\"colorscale\":{\"sequential\":[[0.0,\"#0d0887\"],[0.1111111111111111,\"#46039f\"],[0.2222222222222222,\"#7201a8\"],[0.3333333333333333,\"#9c179e\"],[0.4444444444444444,\"#bd3786\"],[0.5555555555555556,\"#d8576b\"],[0.6666666666666666,\"#ed7953\"],[0.7777777777777778,\"#fb9f3a\"],[0.8888888888888888,\"#fdca26\"],[1.0,\"#f0f921\"]],\"sequentialminus\":[[0.0,\"#0d0887\"],[0.1111111111111111,\"#46039f\"],[0.2222222222222222,\"#7201a8\"],[0.3333333333333333,\"#9c179e\"],[0.4444444444444444,\"#bd3786\"],[0.5555555555555556,\"#d8576b\"],[0.6666666666666666,\"#ed7953\"],[0.7777777777777778,\"#fb9f3a\"],[0.8888888888888888,\"#fdca26\"],[1.0,\"#f0f921\"]],\"diverging\":[[0,\"#8e0152\"],[0.1,\"#c51b7d\"],[0.2,\"#de77ae\"],[0.3,\"#f1b6da\"],[0.4,\"#fde0ef\"],[0.5,\"#f7f7f7\"],[0.6,\"#e6f5d0\"],[0.7,\"#b8e186\"],[0.8,\"#7fbc41\"],[0.9,\"#4d9221\"],[1,\"#276419\"]]},\"xaxis\":{\"gridcolor\":\"white\",\"linecolor\":\"white\",\"ticks\":\"\",\"title\":{\"standoff\":15},\"zerolinecolor\":\"white\",\"automargin\":true,\"zerolinewidth\":2},\"yaxis\":{\"gridcolor\":\"white\",\"linecolor\":\"white\",\"ticks\":\"\",\"title\":{\"standoff\":15},\"zerolinecolor\":\"white\",\"automargin\":true,\"zerolinewidth\":2},\"scene\":{\"xaxis\":{\"backgroundcolor\":\"#E5ECF6\",\"gridcolor\":\"white\",\"linecolor\":\"white\",\"showbackground\":true,\"ticks\":\"\",\"zerolinecolor\":\"white\",\"gridwidth\":2},\"yaxis\":{\"backgroundcolor\":\"#E5ECF6\",\"gridcolor\":\"white\",\"linecolor\":\"white\",\"showbackground\":true,\"ticks\":\"\",\"zerolinecolor\":\"white\",\"gridwidth\":2},\"zaxis\":{\"backgroundcolor\":\"#E5ECF6\",\"gridcolor\":\"white\",\"linecolor\":\"white\",\"showbackground\":true,\"ticks\":\"\",\"zerolinecolor\":\"white\",\"gridwidth\":2}},\"shapedefaults\":{\"line\":{\"color\":\"#2a3f5f\"}},\"annotationdefaults\":{\"arrowcolor\":\"#2a3f5f\",\"arrowhead\":0,\"arrowwidth\":1},\"geo\":{\"bgcolor\":\"white\",\"landcolor\":\"#E5ECF6\",\"subunitcolor\":\"white\",\"showland\":true,\"showlakes\":true,\"lakecolor\":\"white\"},\"title\":{\"x\":0.05},\"mapbox\":{\"style\":\"light\"}}},\"xaxis\":{\"anchor\":\"y\",\"domain\":[0.0,1.0],\"title\":{\"text\":\"embedding_x\"}},\"yaxis\":{\"anchor\":\"x\",\"domain\":[0.0,1.0],\"title\":{\"text\":\"embedding_y\"}},\"legend\":{\"tracegroupgap\":0},\"margin\":{\"t\":60},\"title\":{\"text\":\"Embeddings grouping\",\"y\":0.9,\"x\":0.5,\"xanchor\":\"center\",\"yanchor\":\"top\"}},                        {\"responsive\": true}                    ).then(function(){\n",
       "                            \n",
       "var gd = document.getElementById('c478755b-dbe2-4f40-a7de-94a6862a974a');\n",
       "var x = new MutationObserver(function (mutations, observer) {{\n",
       "        var display = window.getComputedStyle(gd).display;\n",
       "        if (!display || display === 'none') {{\n",
       "            console.log([gd, 'removed!']);\n",
       "            Plotly.purge(gd);\n",
       "            observer.disconnect();\n",
       "        }}\n",
       "}});\n",
       "\n",
       "// Listen for the removal of the full notebook cells\n",
       "var notebookContainer = gd.closest('#notebook-container');\n",
       "if (notebookContainer) {{\n",
       "    x.observe(notebookContainer, {childList: true});\n",
       "}}\n",
       "\n",
       "// Listen for the clearing of the current output cell\n",
       "var outputEl = gd.closest('.output');\n",
       "if (outputEl) {{\n",
       "    x.observe(outputEl, {childList: true});\n",
       "}}\n",
       "\n",
       "                        })                };                });            </script>        </div>"
      ]
     },
     "metadata": {},
     "output_type": "display_data"
    }
   ],
   "source": [
    "def plot_embeddings():\n",
    "    embeddings = get_embeddings()\n",
    "    texts = get_text_content()\n",
    "    plot_umap_with_labels(embeddings, texts)\n",
    "    return\n",
    "\n",
    "plot_embeddings()"
   ]
  },
  {
   "cell_type": "markdown",
   "id": "c9e8b0f0-cbc8-450f-9c39-2066c018dc7d",
   "metadata": {},
   "source": [
    "## Chatting with our data\n",
    "\n",
    "Now that embeddings are created out of our document, and that they can be queried for proximity with the question, we can craft a prompt including the embeddings (as text)."
   ]
  },
  {
   "cell_type": "code",
   "execution_count": 13,
   "id": "f1ccf647-1e33-471b-bf40-aaf0f9231ebf",
   "metadata": {},
   "outputs": [],
   "source": [
    "import requests\n",
    "import json\n",
    "\n",
    "def get_response(prompt):\n",
    "\n",
    "    # Define the URL of the local LLM server\n",
    "    url = \"http://localhost:11434/api/generate\"\n",
    "\n",
    "    # Define the data to be sent in the request\n",
    "    data = {\n",
    "        \"model\": \"llama2\",\n",
    "        \"prompt\": prompt,\n",
    "        \"stream\": False\n",
    "    }\n",
    "    \n",
    "    # Convert the data to JSON format\n",
    "    data_json = json.dumps(data)\n",
    "    \n",
    "    # Send the POST request to the local LLM server\n",
    "    response = requests.post(url, data=data_json)\n",
    "\n",
    "    answer = ''\n",
    "    \n",
    "    # Check if the request was successful\n",
    "    if response.status_code == 200:\n",
    "        # Parse the response\n",
    "        response_data = response.json()\n",
    "        # Print the generated text\n",
    "        answer = response_data.get(\"response\", \"No text generated\")\n",
    "    else:\n",
    "        answer = f\"Failed to get response from the server, status code: {response.status_code}\"\n",
    "\n",
    "    return answer"
   ]
  },
  {
   "cell_type": "code",
   "execution_count": 14,
   "id": "507a633f-e2b8-4430-b0f3-a7898706928b",
   "metadata": {},
   "outputs": [],
   "source": [
    "def get_prompt(question):\n",
    "    question_embedding = model.encode([question])[0]\n",
    "    embeddings = get_embeddings()\n",
    "    relevent_embeddings_idx = best_embeddings(question_embedding, embeddings)\n",
    "    texts = get_text_content()\n",
    "    relevent_embeddings = [texts[i] for i in relevent_embeddings_idx]\n",
    "\n",
    "    text_embeddings = f'\\n{80*\"-\"}\\n'.join(relevent_embeddings)\n",
    "    \n",
    "    prompt = f'''\n",
    "You are a helpful and very methodical assistant.\n",
    "Pay particular attention to the list of text items that follow:\n",
    "{80*\"-\"}\n",
    "{text_embeddings}\n",
    "{80*\"-\"}\n",
    "Using exclusively the above text items, answer the following question in the most precise and specific way possible:\n",
    "{question}\n",
    "'''\n",
    "    return prompt"
   ]
  },
  {
   "cell_type": "code",
   "execution_count": 23,
   "id": "d2b3af8d-fbb5-4ab6-840d-48de33c56924",
   "metadata": {},
   "outputs": [
    {
     "name": "stdout",
     "output_type": "stream",
     "text": [
      "\n",
      "You are a helpful and very methodical assistant.\n",
      "Pay particular attention to the list of text items that follow:\n",
      "--------------------------------------------------------------------------------\n",
      "Birds in general have a relatively short life, except for large birds, who can live for several\n",
      "decades.\n",
      "--------------------------------------------------------------------------------\n",
      "Cats have nine lives. They therefore live a very long time.\n",
      "--------------------------------------------------------------------------------\n",
      "Flukarians can potentially live forever, since they can regenerate all their cells. They\n",
      "therefore in theory can live forever, unless an accident happens to them.\n",
      "--------------------------------------------------------------------------------\n",
      "Birds are a group of warm-blooded vertebrates constituting the class Aves (/ˈeɪviːz/),\n",
      "characterised by feathers, toothless beaked jaws, the laying of hard-shelled eggs, a high\n",
      "metabolic rate, a four-chambered heart, and a strong yet lightweight skeleton. Birds live\n",
      "worldwide and range in size from the 5.5 cm (2.2 in) bee hummingbird to the 2.8 m (9 ft 2 in)\n",
      "common ostrich. There are over 11,000 living species, more than half of which are\n",
      "passerine, or \"perching\" birds. Birds have wings whose development varies according to\n",
      "species; the only known groups without wings are the extinct moa and elephant birds.\n",
      "Wings, which are modified forelimbs, gave birds the ability to fly, although further evolution\n",
      "has led to the loss of flight in some birds, including ratites, penguins, and diverse endemic\n",
      "island species. The digestive and respiratory systems of birds are also uniquely adapted for\n",
      "flight. Some bird species of aquatic environments, particularly seabirds and some\n",
      "waterbirds, have further evolved for swimming. The study of birds is called ornithology.\n",
      "--------------------------------------------------------------------------------\n",
      "The dog (Canis familiaris or Canis lupus familiaris) is a domesticated descendant of the wolf.\n",
      "Also called the domestic dog, it is derived from extinct gray wolves, and the gray wolf is the\n",
      "dog's closest living relative. The dog was the first species to be domesticated by humans.\n",
      "Hunter-gatherers did this over 15,000 years ago in Oberkassel, Bonn, which was before the\n",
      "development of agriculture. Due to their long association with humans, dogs have expanded\n",
      "to a large number of domestic individuals and gained the ability to thrive on a starch-rich\n",
      "diet that would be inadequate for other canids.\n",
      "--------------------------------------------------------------------------------\n",
      "The wolf is the ancestor of the dog. It is a wild animal.\n",
      "--------------------------------------------------------------------------------\n",
      "The cat (Felis catus), commonly referred to as the domestic cat or house cat, is the only\n",
      "domesticated species in the family Felidae. Recent advances in archaeology and genetics\n",
      "have shown that the domestication of the cat occurred in the Near East around 7500 BC. It is\n",
      "commonly kept as a house pet and farm cat, but also ranges freely as a feral cat avoiding\n",
      "human contact. It is valued by humans for companionship and its ability to kill vermin.\n",
      "Because of its retractable claws, it is adapted to killing small prey like mice and rats. It has a\n",
      "strong, flexible body, quick reflexes, sharp teeth, and its night vision and sense of smell are\n",
      "well developed. It is a social species, but a solitary hunter and a crepuscular predator. Cat\n",
      "communication includes vocalizations like meowing, purring, trilling, hissing, growling, and\n",
      "grunting as well as cat body language. It can hear sounds too faint or too high in frequency\n",
      "for human ears, such as those made by small mammals. It also secretes and perceives\n",
      "pheromones.\n",
      "--------------------------------------------------------------------------------\n",
      "The flukarian (Flukaris familiaris or Flukaris wingus familiaris) is a wild flying mammal,\n",
      "descendent of an unknow alien species. It flies for most of its life and only lands to mate and\n",
      "perform nuptial rituals. The flukarian was discovered on Alpha Centurion system by the joint\n",
      "ESA-NASA mission in 2434. They feed on bad ideas and skinny astronauts.\n",
      "--------------------------------------------------------------------------------\n",
      "Dogs like to play with balls and stick. As they are colour blind, the colour of their toys don't\n",
      "really matter. It generally depends on the preference of their owners.\n",
      "Here is a list of favourite toys:\n",
      "g. balls\n",
      "h. stick\n",
      "i. frisbee\n",
      "--------------------------------------------------------------------------------\n",
      "Birds like to fly and can travel long distances. Birds also need to eat small stones from time\n",
      "to time, since they use them for grinding seeds in their stomach.\n",
      "Here is a list of favourite toys:\n",
      "d. mirrors\n",
      "e. mice\n",
      "f. little stones\n",
      "--------------------------------------------------------------------------------\n",
      "Using exclusively the above text items, answer the following question in the most precise and specific way possible:\n",
      "rank the animals based on their life expectancy\n",
      "\n"
     ]
    }
   ],
   "source": [
    "prompt = get_prompt('rank the animals based on their life expectancy')\n",
    "print(prompt)"
   ]
  },
  {
   "cell_type": "markdown",
   "id": "90781090-5600-40f8-9c06-574c6819afc1",
   "metadata": {},
   "source": [
    "Now that we have a prompt, we can ask an LLM (Llama2 in this case), to provide the response, based on our data."
   ]
  },
  {
   "cell_type": "code",
   "execution_count": 24,
   "id": "0e4a28cf-8602-47dd-9c52-f084995c2324",
   "metadata": {},
   "outputs": [
    {
     "name": "stdout",
     "output_type": "stream",
     "text": [
      "Based on the information provided in the text, here is a ranking of the animals listed by their estimated life expectancy:\n",
      "\n",
      "1. Birds - with some species living for several decades, the average life expectancy of birds is likely to be around 20-30 years.\n",
      "2. Cats - with their famous nine lives, cats have an estimated lifespan of around 15-20 years.\n",
      "3. Dogs - as domesticated descendants of wolves, dogs have an average life expectancy of around 10-15 years.\n",
      "4. Flukarians - being a wild flying mammal, the lifespan of flukarians is estimated to be around 5-10 years.\n",
      "5. Wolves - as wild animals, wolves have an average life expectancy of around 5-7 years in the wild.\n",
      "\n",
      "It's important to note that these estimates are based on the information provided in the text and may not reflect real-world data or scientific research.\n"
     ]
    }
   ],
   "source": [
    "# This can take a while...\n",
    "\n",
    "response = get_response(prompt)\n",
    "print(response)"
   ]
  },
  {
   "cell_type": "code",
   "execution_count": null,
   "id": "b43ab966-a275-42d6-8cd4-9bf7b9a88d09",
   "metadata": {},
   "outputs": [],
   "source": []
  }
 ],
 "metadata": {
  "kernelspec": {
   "display_name": "Python 3 (ipykernel)",
   "language": "python",
   "name": "python3"
  },
  "language_info": {
   "codemirror_mode": {
    "name": "ipython",
    "version": 3
   },
   "file_extension": ".py",
   "mimetype": "text/x-python",
   "name": "python",
   "nbconvert_exporter": "python",
   "pygments_lexer": "ipython3",
   "version": "3.12.1"
  }
 },
 "nbformat": 4,
 "nbformat_minor": 5
}
